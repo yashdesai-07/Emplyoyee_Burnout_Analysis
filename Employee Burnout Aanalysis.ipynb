{
 "cells": [
  {
   "cell_type": "code",
   "execution_count": 5,
   "id": "b558c611",
   "metadata": {},
   "outputs": [
    {
     "name": "stdout",
     "output_type": "stream",
     "text": [
      "Mean Squared Error: 0.01\n",
      "R-squared: 0.84\n",
      "Accuracy: 83.60%\n",
      "\n",
      "Feature Importances:\n",
      "                Feature  Importance\n",
      "5  Mental Fatigue Score    0.784615\n",
      "4   Resource Allocation    0.092618\n",
      "6    Days Since Joining    0.081785\n",
      "3           Designation    0.016360\n",
      "1          Company Type    0.008462\n",
      "0                Gender    0.008096\n",
      "2   WFH Setup Available    0.008064\n"
     ]
    }
   ],
   "source": [
    "import pandas as pd\n",
    "import numpy as np\n",
    "from sklearn.model_selection import train_test_split\n",
    "from sklearn.ensemble import RandomForestRegressor\n",
    "from sklearn.metrics import mean_squared_error, r2_score, accuracy_score\n",
    "from sklearn.preprocessing import LabelEncoder\n",
    "\n",
    "# Load the dataset\n",
    "data = pd.read_csv('employee_burnout.csv')\n",
    "\n",
    "# Handle missing values\n",
    "data.fillna(data.median(numeric_only=True), inplace=True)\n",
    "data.fillna(data.mode().iloc[0], inplace=True)\n",
    "\n",
    "# Convert Date of Joining to a numerical feature (e.g., days since joining)\n",
    "data['Date of Joining'] = pd.to_datetime(data['Date of Joining'], format='%d-%m-%Y', errors='coerce')\n",
    "data['Days Since Joining'] = (pd.Timestamp.now() - data['Date of Joining']).dt.days\n",
    "\n",
    "# Drop the original Date of Joining column\n",
    "data.drop(columns=['Date of Joining'], inplace=True)\n",
    "\n",
    "# Encode categorical variables using Label Encoding\n",
    "label_encoders = {}\n",
    "for column in ['Gender', 'Company Type', 'WFH Setup Available']:\n",
    "    label_encoders[column] = LabelEncoder()\n",
    "    data[column] = label_encoders[column].fit_transform(data[column])\n",
    "\n",
    "# Define features and target\n",
    "X = data.drop(columns=['Employee ID', 'Burn Rate'])\n",
    "y = data['Burn Rate']\n",
    "\n",
    "# Split the dataset into training and testing sets\n",
    "X_train, X_test, y_train, y_test = train_test_split(X, y, test_size=0.2, random_state=42)\n",
    "\n",
    "# Train the Random Forest Regressor\n",
    "model = RandomForestRegressor(n_estimators=100, random_state=42)\n",
    "model.fit(X_train, y_train)\n",
    "\n",
    "# Make predictions\n",
    "y_pred = model.predict(X_test)\n",
    "\n",
    "# Evaluate the model\n",
    "mse = mean_squared_error(y_test, y_pred)\n",
    "r2 = r2_score(y_test, y_pred)\n",
    "accuracy = model.score(X_test, y_test) * 100\n",
    "\n",
    "print(f\"Mean Squared Error: {mse:.2f}\")\n",
    "print(f\"R-squared: {r2:.2f}\")\n",
    "print(f\"Accuracy: {accuracy:.2f}%\")\n",
    "\n",
    "# Feature importance\n",
    "importances = model.feature_importances_\n",
    "feature_names = X.columns\n",
    "importance_df = pd.DataFrame({'Feature': feature_names, 'Importance': importances})\n",
    "importance_df.sort_values(by='Importance', ascending=False, inplace=True)\n",
    "\n",
    "print(\"\\nFeature Importances:\")\n",
    "print(importance_df)\n"
   ]
  },
  {
   "cell_type": "code",
   "execution_count": null,
   "id": "ad5b2d80",
   "metadata": {},
   "outputs": [],
   "source": []
  }
 ],
 "metadata": {
  "kernelspec": {
   "display_name": "Python 3 (ipykernel)",
   "language": "python",
   "name": "python3"
  },
  "language_info": {
   "codemirror_mode": {
    "name": "ipython",
    "version": 3
   },
   "file_extension": ".py",
   "mimetype": "text/x-python",
   "name": "python",
   "nbconvert_exporter": "python",
   "pygments_lexer": "ipython3",
   "version": "3.11.5"
  }
 },
 "nbformat": 4,
 "nbformat_minor": 5
}
